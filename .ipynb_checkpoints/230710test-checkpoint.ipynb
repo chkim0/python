{
 "cells": [
  {
   "cell_type": "markdown",
   "id": "5a460b5c",
   "metadata": {},
   "source": [
    "# 문제 1: 가로 70cm, 높이 144cm의 삼각형이 있을 때, 빗변의 길이를 구하라"
   ]
  },
  {
   "cell_type": "code",
   "execution_count": 7,
   "id": "d55259d6",
   "metadata": {},
   "outputs": [],
   "source": [
    "import math"
   ]
  },
  {
   "cell_type": "code",
   "execution_count": 8,
   "id": "287806e4",
   "metadata": {},
   "outputs": [],
   "source": [
    "a =70 #가로길이"
   ]
  },
  {
   "cell_type": "code",
   "execution_count": 9,
   "id": "86bb1ba5",
   "metadata": {},
   "outputs": [],
   "source": [
    "b = 144 # 높이"
   ]
  },
  {
   "cell_type": "code",
   "execution_count": 10,
   "id": "9d4f4589",
   "metadata": {},
   "outputs": [
    {
     "name": "stdout",
     "output_type": "stream",
     "text": [
      "4900\n"
     ]
    }
   ],
   "source": [
    "print(a**2 )"
   ]
  },
  {
   "cell_type": "code",
   "execution_count": 11,
   "id": "06d95228",
   "metadata": {},
   "outputs": [
    {
     "name": "stdout",
     "output_type": "stream",
     "text": [
      "20736\n"
     ]
    }
   ],
   "source": [
    "print(b**2)"
   ]
  },
  {
   "cell_type": "code",
   "execution_count": 12,
   "id": "fd702f24",
   "metadata": {},
   "outputs": [],
   "source": [
    "c = a**2 + b**2"
   ]
  },
  {
   "cell_type": "code",
   "execution_count": 13,
   "id": "47ebb5b6",
   "metadata": {},
   "outputs": [
    {
     "name": "stdout",
     "output_type": "stream",
     "text": [
      "160.11246047700348\n"
     ]
    }
   ],
   "source": [
    "print(math.sqrt(c))"
   ]
  },
  {
   "cell_type": "markdown",
   "id": "6eb850d4",
   "metadata": {},
   "source": [
    "# 문제 2: a = 55.994이고, b = 75일 때, a를 일의 자릿수까지 반올림한 숫자와, b의 절댓값 중 큰 것을 구하라"
   ]
  },
  {
   "cell_type": "code",
   "execution_count": 25,
   "id": "9b7776f5",
   "metadata": {},
   "outputs": [],
   "source": [
    "a = 55.994 "
   ]
  },
  {
   "cell_type": "code",
   "execution_count": 26,
   "id": "497a0aec",
   "metadata": {},
   "outputs": [],
   "source": [
    "b = 75"
   ]
  },
  {
   "cell_type": "code",
   "execution_count": 28,
   "id": "3f41c748",
   "metadata": {
    "scrolled": true
   },
   "outputs": [
    {
     "data": {
      "text/plain": [
       "56"
      ]
     },
     "execution_count": 28,
     "metadata": {},
     "output_type": "execute_result"
    }
   ],
   "source": [
    "round(a, ) "
   ]
  },
  {
   "cell_type": "markdown",
   "id": "975ae279",
   "metadata": {},
   "source": [
    "a < b 이므로 답은 b  "
   ]
  },
  {
   "cell_type": "markdown",
   "id": "3b9cef86",
   "metadata": {},
   "source": [
    "# 문제 3: lorem의 400번째 자리 글자를 구하라"
   ]
  },
  {
   "cell_type": "code",
   "execution_count": 15,
   "id": "508cd4fb",
   "metadata": {},
   "outputs": [],
   "source": [
    "lorem = '''There are many variations of passages of Lorem Ipsum available, but the majority have suffered alteration in some form, by injected humour, or randomised words which don't look even slightly believable. If you are going to use a passage of Lorem Ipsum, you need to be sure there isn't anything embarrassing hidden in the middle of text. All the Lorem Ipsum generators on the Internet tend to repeat predefined chunks as necessary, making this the first true generator on the Internet. It uses a dictionary of over 200 Latin words, combined with a handful of model sentence structures, to generate Lorem Ipsum which looks reasonable. The generated Lorem Ipsum is therefore always free from repetition, injected humour, or non-characteristic words etc.'''"
   ]
  },
  {
   "cell_type": "code",
   "execution_count": 16,
   "id": "5236c82d",
   "metadata": {},
   "outputs": [
    {
     "data": {
      "text/plain": [
       "'r'"
      ]
     },
     "execution_count": 16,
     "metadata": {},
     "output_type": "execute_result"
    }
   ],
   "source": [
    "lorem[400]"
   ]
  },
  {
   "cell_type": "code",
   "execution_count": 19,
   "id": "cd372bd5",
   "metadata": {},
   "outputs": [
    {
     "data": {
      "text/plain": [
       "'T'"
      ]
     },
     "execution_count": 19,
     "metadata": {},
     "output_type": "execute_result"
    }
   ],
   "source": [
    "lorem[0]"
   ]
  },
  {
   "cell_type": "markdown",
   "id": "3de3896c",
   "metadata": {},
   "source": [
    "# 문제 4: lorem의 뒤에서 3번째부터 뒤에서 99번째까지의 글자를 구하라"
   ]
  },
  {
   "cell_type": "code",
   "execution_count": 71,
   "id": "ccecef42",
   "metadata": {},
   "outputs": [
    {
     "data": {
      "text/plain": [
       "\"te sdrow citsiretcarahc-non ro ,ruomuh detcejni ,noititeper morf eerf syawla erofereht si muspI meroL detareneg ehT .elbanosaer skool hcihw muspI meroL etareneg ot ,serutcurts ecnetnes ledom fo lufdnah a htiw denibmoc ,sdrow nitaL 002 revo fo yranoitcid a sesu tI .tenretnI eht no rotareneg eurt tsrif eht siht gnikam ,yrassecen sa sknuhc denifederp taeper ot dnet tenretnI eht no srotareneg muspI meroL eht llA .txet fo elddim eht ni neddih gnissarrabme gnihtyna t'nsi ereht erus eb ot deen uoy ,muspI meroL fo egassap a esu ot gniog era uoy fI .elbaveileb ylthgils neve kool t'nod hcihw sdrow desimodnar ro ,ruomuh detcejni yb ,mrof emos ni noit\""
      ]
     },
     "execution_count": 71,
     "metadata": {},
     "output_type": "execute_result"
    }
   ],
   "source": [
    "lorem[-3:100: -1]"
   ]
  },
  {
   "cell_type": "markdown",
   "id": "3fb45a1c",
   "metadata": {},
   "source": [
    "# 문제 5: lorem의 글자 중 27번째 글자를 대문자로 바꾸어라"
   ]
  },
  {
   "cell_type": "code",
   "execution_count": 50,
   "id": "78031300",
   "metadata": {},
   "outputs": [
    {
     "data": {
      "text/plain": [
       "'F'"
      ]
     },
     "execution_count": 50,
     "metadata": {},
     "output_type": "execute_result"
    }
   ],
   "source": [
    "lorem[27].upper()"
   ]
  },
  {
   "cell_type": "markdown",
   "id": "429d987d",
   "metadata": {},
   "source": [
    "# 문제 6: lorem의 띄어쓰기를 제거해 lorem2 변수로 저장하라"
   ]
  },
  {
   "cell_type": "code",
   "execution_count": 55,
   "id": "d7e428c7",
   "metadata": {},
   "outputs": [],
   "source": [
    "lorem2 = lorem.replace(' ','')"
   ]
  },
  {
   "cell_type": "code",
   "execution_count": 56,
   "id": "84488b5d",
   "metadata": {},
   "outputs": [
    {
     "name": "stdout",
     "output_type": "stream",
     "text": [
      "TherearemanyvariationsofpassagesofLoremIpsumavailable,butthemajorityhavesufferedalterationinsomeform,byinjectedhumour,orrandomisedwordswhichdon'tlookevenslightlybelievable.IfyouaregoingtouseapassageofLoremIpsum,youneedtobesurethereisn'tanythingembarrassinghiddeninthemiddleoftext.AlltheLoremIpsumgeneratorsontheInternettendtorepeatpredefinedchunksasnecessary,makingthisthefirsttruegeneratorontheInternet.Itusesadictionaryofover200Latinwords,combinedwithahandfulofmodelsentencestructures,togenerateLoremIpsumwhichlooksreasonable.ThegeneratedLoremIpsumisthereforealwaysfreefromrepetition,injectedhumour,ornon-characteristicwordsetc.\n"
     ]
    }
   ],
   "source": [
    "print(lorem2)"
   ]
  },
  {
   "cell_type": "markdown",
   "id": "a2fc5e6f",
   "metadata": {},
   "source": [
    "# 문제 7: lorem의 값을 -(하이픈)을 기준으로 나누어라"
   ]
  },
  {
   "cell_type": "code",
   "execution_count": 69,
   "id": "6420495c",
   "metadata": {},
   "outputs": [
    {
     "data": {
      "text/plain": [
       "[\"There are many variations of passages of Lorem Ipsum available, but the majority have suffered alteration in some form, by injected humour, or randomised words which don't look even slightly believable. If you are going to use a passage of Lorem Ipsum, you need to be sure there isn't anything embarrassing hidden in the middle of text. All the Lorem Ipsum generators on the Internet tend to repeat predefined chunks as necessary, making this the first true generator on the Internet. It uses a dictionary of over 200 Latin words, combined with a handful of model sentence structures, to generate Lorem Ipsum which looks reasonable. The generated Lorem Ipsum is therefore always free from repetition, injected humour, or non\",\n",
       " 'characteristic words etc.']"
      ]
     },
     "execution_count": 69,
     "metadata": {},
     "output_type": "execute_result"
    }
   ],
   "source": [
    "lorem.split('-')"
   ]
  },
  {
   "cell_type": "markdown",
   "id": "f7514e0e",
   "metadata": {},
   "source": [
    "# 문제 8: 100 < x < 806 범위 안에서, x가 홀수일 때 x의 합을 구하라"
   ]
  },
  {
   "cell_type": "code",
   "execution_count": 226,
   "id": "93cd8f69",
   "metadata": {},
   "outputs": [
    {
     "name": "stdout",
     "output_type": "stream",
     "text": [
      "100보다 크고 806보다 작은 홀수의 합 : 159909\n"
     ]
    }
   ],
   "source": [
    "sum = 0\n",
    "for i in range(101,806,2):\n",
    "    sum+=i\n",
    "print('100보다 크고 806보다 작은 홀수의 합 :', sum)"
   ]
  },
  {
   "cell_type": "markdown",
   "id": "234224a6",
   "metadata": {},
   "source": [
    "# 문제 9: lorem2를 짝수 줄만 출력하라"
   ]
  },
  {
   "cell_type": "code",
   "execution_count": 22,
   "id": "4dbae3e7",
   "metadata": {},
   "outputs": [],
   "source": [
    "lorem2 = '''Contrary to popular belief, Lorem Ipsum is not simply random text. \n",
    "It has roots in a piece of classical Latin literature from 45 BC, \n",
    "making it over 2000 years old. Richard McClintock, a Latin \n",
    "professor at Hampden-Sydney College in Virginia, looked up one of \n",
    "the more obscure Latin words, consectetur, from a Lorem Ipsum \n",
    "passage, and going through the cites of the word in classical \n",
    "literature, discovered the undoubtable source. Lorem Ipsum \n",
    "omes from sections 1.10.32 and 1.10.33 of \"de Finibus Bonorum \n",
    "et Malorum\" (The Extremes of Good and Evil) by Cicero, written in 45 BC. \n",
    "This book is a treatise on the theory of ethics, very popular during \n",
    "the Renaissance. The first line of Lorem Ipsum, \"Lorem ipsum dolor sit \n",
    "amet..\", comes from a line in section 1.10.32.'''"
   ]
  },
  {
   "cell_type": "code",
   "execution_count": 24,
   "id": "c403332a",
   "metadata": {},
   "outputs": [],
   "source": [
    "lo2split = lorem2.split('\\n')"
   ]
  },
  {
   "cell_type": "code",
   "execution_count": 27,
   "id": "2d21d7ec",
   "metadata": {},
   "outputs": [
    {
     "name": "stdout",
     "output_type": "stream",
     "text": [
      "It has roots in a piece of classical Latin literature from 45 BC, \n",
      "professor at Hampden-Sydney College in Virginia, looked up one of \n",
      "passage, and going through the cites of the word in classical \n",
      "omes from sections 1.10.32 and 1.10.33 of \"de Finibus Bonorum \n",
      "This book is a treatise on the theory of ethics, very popular during \n",
      "amet..\", comes from a line in section 1.10.32.\n"
     ]
    }
   ],
   "source": [
    "for i in lo2split[1::2]:\n",
    "    print(i)"
   ]
  },
  {
   "cell_type": "markdown",
   "id": "eb1ad57b",
   "metadata": {},
   "source": [
    "# 문제 10: pdm에서 통계사업번호를 20230116으로 변경해 pdm2로 저장하라"
   ]
  },
  {
   "cell_type": "code",
   "execution_count": 100,
   "id": "2d57ea38",
   "metadata": {},
   "outputs": [],
   "source": [
    "pdm = {\"통계사업번호\" : \"2015140319032\",\n",
    "\t\t\"사업명\" : \"캄보디아 노인자조모임 지원 및 연합회 설립을 통한 캄보디아 노인의 빈곤퇴치와 건강증진 (2015-20171,037백만원CPP한국헬프에이지Phase2)\",\n",
    "\t\t\"PDM수직단계\" : \"summary\",\n",
    "\t\t\"PDM목차번호\" : \"0\",\n",
    "\t\t\"PDM목차세부번호\" : \"1\",\n",
    "\t\t\"PDM성과지표\" : \"개요\",\n",
    "\t\t\"연차\" : \"\",\n",
    "\t\t\"내용\" : \"※대표 수혜자 지표(지표명\\/측정 성과): 현재 자조모임 회원 가입 수\\/ 총 4,279명\"}"
   ]
  },
  {
   "cell_type": "code",
   "execution_count": 104,
   "id": "bccb5c0c",
   "metadata": {},
   "outputs": [],
   "source": [
    "pdm2 = pdm[\"통계사업번호\"] = \"20230116\""
   ]
  },
  {
   "cell_type": "code",
   "execution_count": 105,
   "id": "a17fba2d",
   "metadata": {},
   "outputs": [
    {
     "name": "stdout",
     "output_type": "stream",
     "text": [
      "20230116\n"
     ]
    }
   ],
   "source": [
    "print(pdm2)"
   ]
  },
  {
   "cell_type": "markdown",
   "id": "0ee3703d",
   "metadata": {},
   "source": [
    "# 문제 11: pdm의 value를 차례대로 출력하라"
   ]
  },
  {
   "cell_type": "code",
   "execution_count": 228,
   "id": "d2500edf",
   "metadata": {},
   "outputs": [
    {
     "data": {
      "text/plain": [
       "dict_values(['20230116', '캄보디아 노인자조모임 지원 및 연합회 설립을 통한 캄보디아 노인의 빈곤퇴치와 건강증진 (2015-20171,037백만원CPP한국헬프에이지Phase2)', 'summary', '0', '1', '개요', '', '※대표 수혜자 지표(지표명\\\\/측정 성과): 현재 자조모임 회원 가입 수\\\\/ 총 4,279명'])"
      ]
     },
     "execution_count": 228,
     "metadata": {},
     "output_type": "execute_result"
    }
   ],
   "source": [
    "pdm.values()"
   ]
  },
  {
   "cell_type": "markdown",
   "id": "e42d9bfc",
   "metadata": {},
   "source": [
    "# 문제 12: gene에서 A의 개수를 출력하라"
   ]
  },
  {
   "cell_type": "code",
   "execution_count": 229,
   "id": "d59221c5",
   "metadata": {},
   "outputs": [],
   "source": [
    "gene = 'ACAACTATGCATACTATCGGGAACTATCCT'"
   ]
  },
  {
   "cell_type": "code",
   "execution_count": 230,
   "id": "7ce614b5",
   "metadata": {},
   "outputs": [
    {
     "data": {
      "text/plain": [
       "10"
      ]
     },
     "execution_count": 230,
     "metadata": {},
     "output_type": "execute_result"
    }
   ],
   "source": [
    "gene.count('A')"
   ]
  },
  {
   "cell_type": "markdown",
   "id": "39738242",
   "metadata": {},
   "source": [
    "# 문제 13: gene에서 ACTAT라는 패턴의 개수를 확인한다"
   ]
  },
  {
   "cell_type": "code",
   "execution_count": 231,
   "id": "41e8805a",
   "metadata": {},
   "outputs": [
    {
     "data": {
      "text/plain": [
       "3"
      ]
     },
     "execution_count": 231,
     "metadata": {},
     "output_type": "execute_result"
    }
   ],
   "source": [
    "gene.count('ACTAT')"
   ]
  },
  {
   "cell_type": "markdown",
   "id": "cbf1afe4",
   "metadata": {},
   "source": [
    "# 문제 14: test.csv 파일의 Age의 값에 모두 102를 더해 저장하라"
   ]
  },
  {
   "cell_type": "code",
   "execution_count": 32,
   "id": "d66bc3a6",
   "metadata": {},
   "outputs": [],
   "source": [
    "import pandas as pd"
   ]
  },
  {
   "cell_type": "code",
   "execution_count": 33,
   "id": "652c279b",
   "metadata": {},
   "outputs": [],
   "source": [
    "df = pd.read_csv('../../Downloads/test.csv',encoding='cp949')"
   ]
  },
  {
   "cell_type": "code",
   "execution_count": 34,
   "id": "0870b043",
   "metadata": {
    "scrolled": true
   },
   "outputs": [
    {
     "data": {
      "text/html": [
       "<div>\n",
       "<style scoped>\n",
       "    .dataframe tbody tr th:only-of-type {\n",
       "        vertical-align: middle;\n",
       "    }\n",
       "\n",
       "    .dataframe tbody tr th {\n",
       "        vertical-align: top;\n",
       "    }\n",
       "\n",
       "    .dataframe thead th {\n",
       "        text-align: right;\n",
       "    }\n",
       "</style>\n",
       "<table border=\"1\" class=\"dataframe\">\n",
       "  <thead>\n",
       "    <tr style=\"text-align: right;\">\n",
       "      <th></th>\n",
       "      <th>PassengerId</th>\n",
       "      <th>Pclass</th>\n",
       "      <th>Name</th>\n",
       "      <th>Sex</th>\n",
       "      <th>Age</th>\n",
       "      <th>SibSp</th>\n",
       "      <th>Parch</th>\n",
       "      <th>Ticket</th>\n",
       "      <th>Fare</th>\n",
       "      <th>Cabin</th>\n",
       "      <th>Embarked</th>\n",
       "    </tr>\n",
       "  </thead>\n",
       "  <tbody>\n",
       "    <tr>\n",
       "      <th>0</th>\n",
       "      <td>892</td>\n",
       "      <td>3</td>\n",
       "      <td>Kelly, Mr. James</td>\n",
       "      <td>male</td>\n",
       "      <td>34.5</td>\n",
       "      <td>0</td>\n",
       "      <td>0</td>\n",
       "      <td>330911</td>\n",
       "      <td>7.8292</td>\n",
       "      <td>NaN</td>\n",
       "      <td>Q</td>\n",
       "    </tr>\n",
       "    <tr>\n",
       "      <th>1</th>\n",
       "      <td>893</td>\n",
       "      <td>3</td>\n",
       "      <td>Wilkes, Mrs. James (Ellen Needs)</td>\n",
       "      <td>female</td>\n",
       "      <td>47.0</td>\n",
       "      <td>1</td>\n",
       "      <td>0</td>\n",
       "      <td>363272</td>\n",
       "      <td>7.0000</td>\n",
       "      <td>NaN</td>\n",
       "      <td>S</td>\n",
       "    </tr>\n",
       "    <tr>\n",
       "      <th>2</th>\n",
       "      <td>894</td>\n",
       "      <td>2</td>\n",
       "      <td>Myles, Mr. Thomas Francis</td>\n",
       "      <td>male</td>\n",
       "      <td>62.0</td>\n",
       "      <td>0</td>\n",
       "      <td>0</td>\n",
       "      <td>240276</td>\n",
       "      <td>9.6875</td>\n",
       "      <td>NaN</td>\n",
       "      <td>Q</td>\n",
       "    </tr>\n",
       "    <tr>\n",
       "      <th>3</th>\n",
       "      <td>895</td>\n",
       "      <td>3</td>\n",
       "      <td>Wirz, Mr. Albert</td>\n",
       "      <td>male</td>\n",
       "      <td>27.0</td>\n",
       "      <td>0</td>\n",
       "      <td>0</td>\n",
       "      <td>315154</td>\n",
       "      <td>8.6625</td>\n",
       "      <td>NaN</td>\n",
       "      <td>S</td>\n",
       "    </tr>\n",
       "    <tr>\n",
       "      <th>4</th>\n",
       "      <td>896</td>\n",
       "      <td>3</td>\n",
       "      <td>Hirvonen, Mrs. Alexander (Helga E Lindqvist)</td>\n",
       "      <td>female</td>\n",
       "      <td>22.0</td>\n",
       "      <td>1</td>\n",
       "      <td>1</td>\n",
       "      <td>3101298</td>\n",
       "      <td>12.2875</td>\n",
       "      <td>NaN</td>\n",
       "      <td>S</td>\n",
       "    </tr>\n",
       "    <tr>\n",
       "      <th>...</th>\n",
       "      <td>...</td>\n",
       "      <td>...</td>\n",
       "      <td>...</td>\n",
       "      <td>...</td>\n",
       "      <td>...</td>\n",
       "      <td>...</td>\n",
       "      <td>...</td>\n",
       "      <td>...</td>\n",
       "      <td>...</td>\n",
       "      <td>...</td>\n",
       "      <td>...</td>\n",
       "    </tr>\n",
       "    <tr>\n",
       "      <th>413</th>\n",
       "      <td>1305</td>\n",
       "      <td>3</td>\n",
       "      <td>Spector, Mr. Woolf</td>\n",
       "      <td>male</td>\n",
       "      <td>NaN</td>\n",
       "      <td>0</td>\n",
       "      <td>0</td>\n",
       "      <td>A.5. 3236</td>\n",
       "      <td>8.0500</td>\n",
       "      <td>NaN</td>\n",
       "      <td>S</td>\n",
       "    </tr>\n",
       "    <tr>\n",
       "      <th>414</th>\n",
       "      <td>1306</td>\n",
       "      <td>1</td>\n",
       "      <td>Oliva y Ocana, Dona. Fermina</td>\n",
       "      <td>female</td>\n",
       "      <td>39.0</td>\n",
       "      <td>0</td>\n",
       "      <td>0</td>\n",
       "      <td>PC 17758</td>\n",
       "      <td>108.9000</td>\n",
       "      <td>C105</td>\n",
       "      <td>C</td>\n",
       "    </tr>\n",
       "    <tr>\n",
       "      <th>415</th>\n",
       "      <td>1307</td>\n",
       "      <td>3</td>\n",
       "      <td>Saether, Mr. Simon Sivertsen</td>\n",
       "      <td>male</td>\n",
       "      <td>38.5</td>\n",
       "      <td>0</td>\n",
       "      <td>0</td>\n",
       "      <td>SOTON/O.Q. 3101262</td>\n",
       "      <td>7.2500</td>\n",
       "      <td>NaN</td>\n",
       "      <td>S</td>\n",
       "    </tr>\n",
       "    <tr>\n",
       "      <th>416</th>\n",
       "      <td>1308</td>\n",
       "      <td>3</td>\n",
       "      <td>Ware, Mr. Frederick</td>\n",
       "      <td>male</td>\n",
       "      <td>NaN</td>\n",
       "      <td>0</td>\n",
       "      <td>0</td>\n",
       "      <td>359309</td>\n",
       "      <td>8.0500</td>\n",
       "      <td>NaN</td>\n",
       "      <td>S</td>\n",
       "    </tr>\n",
       "    <tr>\n",
       "      <th>417</th>\n",
       "      <td>1309</td>\n",
       "      <td>3</td>\n",
       "      <td>Peter, Master. Michael J</td>\n",
       "      <td>male</td>\n",
       "      <td>NaN</td>\n",
       "      <td>1</td>\n",
       "      <td>1</td>\n",
       "      <td>2668</td>\n",
       "      <td>22.3583</td>\n",
       "      <td>NaN</td>\n",
       "      <td>C</td>\n",
       "    </tr>\n",
       "  </tbody>\n",
       "</table>\n",
       "<p>418 rows × 11 columns</p>\n",
       "</div>"
      ],
      "text/plain": [
       "     PassengerId  Pclass                                          Name  \\\n",
       "0            892       3                              Kelly, Mr. James   \n",
       "1            893       3              Wilkes, Mrs. James (Ellen Needs)   \n",
       "2            894       2                     Myles, Mr. Thomas Francis   \n",
       "3            895       3                              Wirz, Mr. Albert   \n",
       "4            896       3  Hirvonen, Mrs. Alexander (Helga E Lindqvist)   \n",
       "..           ...     ...                                           ...   \n",
       "413         1305       3                            Spector, Mr. Woolf   \n",
       "414         1306       1                  Oliva y Ocana, Dona. Fermina   \n",
       "415         1307       3                  Saether, Mr. Simon Sivertsen   \n",
       "416         1308       3                           Ware, Mr. Frederick   \n",
       "417         1309       3                      Peter, Master. Michael J   \n",
       "\n",
       "        Sex   Age  SibSp  Parch              Ticket      Fare Cabin Embarked  \n",
       "0      male  34.5      0      0              330911    7.8292   NaN        Q  \n",
       "1    female  47.0      1      0              363272    7.0000   NaN        S  \n",
       "2      male  62.0      0      0              240276    9.6875   NaN        Q  \n",
       "3      male  27.0      0      0              315154    8.6625   NaN        S  \n",
       "4    female  22.0      1      1             3101298   12.2875   NaN        S  \n",
       "..      ...   ...    ...    ...                 ...       ...   ...      ...  \n",
       "413    male   NaN      0      0           A.5. 3236    8.0500   NaN        S  \n",
       "414  female  39.0      0      0            PC 17758  108.9000  C105        C  \n",
       "415    male  38.5      0      0  SOTON/O.Q. 3101262    7.2500   NaN        S  \n",
       "416    male   NaN      0      0              359309    8.0500   NaN        S  \n",
       "417    male   NaN      1      1                2668   22.3583   NaN        C  \n",
       "\n",
       "[418 rows x 11 columns]"
      ]
     },
     "execution_count": 34,
     "metadata": {},
     "output_type": "execute_result"
    }
   ],
   "source": [
    "df"
   ]
  },
  {
   "cell_type": "code",
   "execution_count": 35,
   "id": "243fb3af",
   "metadata": {},
   "outputs": [],
   "source": [
    "df2 = df['Age'].apply(lambda x: x+102)"
   ]
  },
  {
   "cell_type": "code",
   "execution_count": 36,
   "id": "ee740dcf",
   "metadata": {},
   "outputs": [
    {
     "name": "stdout",
     "output_type": "stream",
     "text": [
      "0      136.5\n",
      "1      149.0\n",
      "2      164.0\n",
      "3      129.0\n",
      "4      124.0\n",
      "       ...  \n",
      "413      NaN\n",
      "414    141.0\n",
      "415    140.5\n",
      "416      NaN\n",
      "417      NaN\n",
      "Name: Age, Length: 418, dtype: float64\n"
     ]
    }
   ],
   "source": [
    "print(df2)"
   ]
  },
  {
   "cell_type": "markdown",
   "id": "f4f9159a",
   "metadata": {},
   "source": [
    "# 문제 15: test.csv 파일의 Sex를 아래와 같이 분류해 저장하라"
   ]
  },
  {
   "cell_type": "code",
   "execution_count": 37,
   "id": "7ebe60ee",
   "metadata": {
    "scrolled": true
   },
   "outputs": [],
   "source": [
    "df3 =df['Sex'].apply(lambda x: x == 'female') "
   ]
  },
  {
   "cell_type": "code",
   "execution_count": 38,
   "id": "ae77af5f",
   "metadata": {},
   "outputs": [
    {
     "name": "stdout",
     "output_type": "stream",
     "text": [
      "0      False\n",
      "1       True\n",
      "2      False\n",
      "3      False\n",
      "4       True\n",
      "       ...  \n",
      "413    False\n",
      "414     True\n",
      "415    False\n",
      "416    False\n",
      "417    False\n",
      "Name: Sex, Length: 418, dtype: bool\n"
     ]
    }
   ],
   "source": [
    "print(df3)"
   ]
  },
  {
   "cell_type": "code",
   "execution_count": 39,
   "id": "e866f79c",
   "metadata": {},
   "outputs": [],
   "source": [
    "def to_int(x):\n",
    "    try: \n",
    "        if df3 == True:\n",
    "            return 1\n",
    "        else :\n",
    "            return 0\n",
    "    except:\n",
    "        return 0"
   ]
  },
  {
   "cell_type": "code",
   "execution_count": 40,
   "id": "10131ebb",
   "metadata": {},
   "outputs": [],
   "source": [
    "df['Sex'] = df['Sex'].apply(lambda x: to_int(x))"
   ]
  },
  {
   "cell_type": "code",
   "execution_count": 41,
   "id": "dabb43f7",
   "metadata": {
    "scrolled": true
   },
   "outputs": [
    {
     "name": "stdout",
     "output_type": "stream",
     "text": [
      "0      0\n",
      "1      0\n",
      "2      0\n",
      "3      0\n",
      "4      0\n",
      "      ..\n",
      "413    0\n",
      "414    0\n",
      "415    0\n",
      "416    0\n",
      "417    0\n",
      "Name: Sex, Length: 418, dtype: int64\n"
     ]
    }
   ],
   "source": [
    "print(df['Sex'])"
   ]
  },
  {
   "cell_type": "markdown",
   "id": "5741be9e",
   "metadata": {},
   "source": [
    "# 문제 16: test.csv 파일에서 Fare의 평균값을 구한 뒤, 평균 이상인 그룹만 분리해 fare_high column에 저장하라"
   ]
  },
  {
   "cell_type": "code",
   "execution_count": 242,
   "id": "f12d3d66",
   "metadata": {
    "scrolled": true
   },
   "outputs": [
    {
     "data": {
      "text/html": [
       "<div>\n",
       "<style scoped>\n",
       "    .dataframe tbody tr th:only-of-type {\n",
       "        vertical-align: middle;\n",
       "    }\n",
       "\n",
       "    .dataframe tbody tr th {\n",
       "        vertical-align: top;\n",
       "    }\n",
       "\n",
       "    .dataframe thead th {\n",
       "        text-align: right;\n",
       "    }\n",
       "</style>\n",
       "<table border=\"1\" class=\"dataframe\">\n",
       "  <thead>\n",
       "    <tr style=\"text-align: right;\">\n",
       "      <th></th>\n",
       "      <th>PassengerId</th>\n",
       "      <th>Pclass</th>\n",
       "      <th>Name</th>\n",
       "      <th>Sex</th>\n",
       "      <th>Age</th>\n",
       "      <th>SibSp</th>\n",
       "      <th>Parch</th>\n",
       "      <th>Ticket</th>\n",
       "      <th>Fare</th>\n",
       "      <th>Cabin</th>\n",
       "      <th>Embarked</th>\n",
       "    </tr>\n",
       "  </thead>\n",
       "  <tbody>\n",
       "    <tr>\n",
       "      <th>0</th>\n",
       "      <td>892</td>\n",
       "      <td>3</td>\n",
       "      <td>Kelly, Mr. James</td>\n",
       "      <td>0</td>\n",
       "      <td>34.5</td>\n",
       "      <td>0</td>\n",
       "      <td>0</td>\n",
       "      <td>330911</td>\n",
       "      <td>7.8292</td>\n",
       "      <td>NaN</td>\n",
       "      <td>Q</td>\n",
       "    </tr>\n",
       "    <tr>\n",
       "      <th>1</th>\n",
       "      <td>893</td>\n",
       "      <td>3</td>\n",
       "      <td>Wilkes, Mrs. James (Ellen Needs)</td>\n",
       "      <td>0</td>\n",
       "      <td>47.0</td>\n",
       "      <td>1</td>\n",
       "      <td>0</td>\n",
       "      <td>363272</td>\n",
       "      <td>7.0000</td>\n",
       "      <td>NaN</td>\n",
       "      <td>S</td>\n",
       "    </tr>\n",
       "    <tr>\n",
       "      <th>2</th>\n",
       "      <td>894</td>\n",
       "      <td>2</td>\n",
       "      <td>Myles, Mr. Thomas Francis</td>\n",
       "      <td>0</td>\n",
       "      <td>62.0</td>\n",
       "      <td>0</td>\n",
       "      <td>0</td>\n",
       "      <td>240276</td>\n",
       "      <td>9.6875</td>\n",
       "      <td>NaN</td>\n",
       "      <td>Q</td>\n",
       "    </tr>\n",
       "    <tr>\n",
       "      <th>3</th>\n",
       "      <td>895</td>\n",
       "      <td>3</td>\n",
       "      <td>Wirz, Mr. Albert</td>\n",
       "      <td>0</td>\n",
       "      <td>27.0</td>\n",
       "      <td>0</td>\n",
       "      <td>0</td>\n",
       "      <td>315154</td>\n",
       "      <td>8.6625</td>\n",
       "      <td>NaN</td>\n",
       "      <td>S</td>\n",
       "    </tr>\n",
       "    <tr>\n",
       "      <th>4</th>\n",
       "      <td>896</td>\n",
       "      <td>3</td>\n",
       "      <td>Hirvonen, Mrs. Alexander (Helga E Lindqvist)</td>\n",
       "      <td>0</td>\n",
       "      <td>22.0</td>\n",
       "      <td>1</td>\n",
       "      <td>1</td>\n",
       "      <td>3101298</td>\n",
       "      <td>12.2875</td>\n",
       "      <td>NaN</td>\n",
       "      <td>S</td>\n",
       "    </tr>\n",
       "    <tr>\n",
       "      <th>...</th>\n",
       "      <td>...</td>\n",
       "      <td>...</td>\n",
       "      <td>...</td>\n",
       "      <td>...</td>\n",
       "      <td>...</td>\n",
       "      <td>...</td>\n",
       "      <td>...</td>\n",
       "      <td>...</td>\n",
       "      <td>...</td>\n",
       "      <td>...</td>\n",
       "      <td>...</td>\n",
       "    </tr>\n",
       "    <tr>\n",
       "      <th>413</th>\n",
       "      <td>1305</td>\n",
       "      <td>3</td>\n",
       "      <td>Spector, Mr. Woolf</td>\n",
       "      <td>0</td>\n",
       "      <td>NaN</td>\n",
       "      <td>0</td>\n",
       "      <td>0</td>\n",
       "      <td>A.5. 3236</td>\n",
       "      <td>8.0500</td>\n",
       "      <td>NaN</td>\n",
       "      <td>S</td>\n",
       "    </tr>\n",
       "    <tr>\n",
       "      <th>414</th>\n",
       "      <td>1306</td>\n",
       "      <td>1</td>\n",
       "      <td>Oliva y Ocana, Dona. Fermina</td>\n",
       "      <td>0</td>\n",
       "      <td>39.0</td>\n",
       "      <td>0</td>\n",
       "      <td>0</td>\n",
       "      <td>PC 17758</td>\n",
       "      <td>108.9000</td>\n",
       "      <td>C105</td>\n",
       "      <td>C</td>\n",
       "    </tr>\n",
       "    <tr>\n",
       "      <th>415</th>\n",
       "      <td>1307</td>\n",
       "      <td>3</td>\n",
       "      <td>Saether, Mr. Simon Sivertsen</td>\n",
       "      <td>0</td>\n",
       "      <td>38.5</td>\n",
       "      <td>0</td>\n",
       "      <td>0</td>\n",
       "      <td>SOTON/O.Q. 3101262</td>\n",
       "      <td>7.2500</td>\n",
       "      <td>NaN</td>\n",
       "      <td>S</td>\n",
       "    </tr>\n",
       "    <tr>\n",
       "      <th>416</th>\n",
       "      <td>1308</td>\n",
       "      <td>3</td>\n",
       "      <td>Ware, Mr. Frederick</td>\n",
       "      <td>0</td>\n",
       "      <td>NaN</td>\n",
       "      <td>0</td>\n",
       "      <td>0</td>\n",
       "      <td>359309</td>\n",
       "      <td>8.0500</td>\n",
       "      <td>NaN</td>\n",
       "      <td>S</td>\n",
       "    </tr>\n",
       "    <tr>\n",
       "      <th>417</th>\n",
       "      <td>1309</td>\n",
       "      <td>3</td>\n",
       "      <td>Peter, Master. Michael J</td>\n",
       "      <td>0</td>\n",
       "      <td>NaN</td>\n",
       "      <td>1</td>\n",
       "      <td>1</td>\n",
       "      <td>2668</td>\n",
       "      <td>22.3583</td>\n",
       "      <td>NaN</td>\n",
       "      <td>C</td>\n",
       "    </tr>\n",
       "  </tbody>\n",
       "</table>\n",
       "<p>418 rows × 11 columns</p>\n",
       "</div>"
      ],
      "text/plain": [
       "     PassengerId  Pclass                                          Name  Sex  \\\n",
       "0            892       3                              Kelly, Mr. James    0   \n",
       "1            893       3              Wilkes, Mrs. James (Ellen Needs)    0   \n",
       "2            894       2                     Myles, Mr. Thomas Francis    0   \n",
       "3            895       3                              Wirz, Mr. Albert    0   \n",
       "4            896       3  Hirvonen, Mrs. Alexander (Helga E Lindqvist)    0   \n",
       "..           ...     ...                                           ...  ...   \n",
       "413         1305       3                            Spector, Mr. Woolf    0   \n",
       "414         1306       1                  Oliva y Ocana, Dona. Fermina    0   \n",
       "415         1307       3                  Saether, Mr. Simon Sivertsen    0   \n",
       "416         1308       3                           Ware, Mr. Frederick    0   \n",
       "417         1309       3                      Peter, Master. Michael J    0   \n",
       "\n",
       "      Age  SibSp  Parch              Ticket      Fare Cabin Embarked  \n",
       "0    34.5      0      0              330911    7.8292   NaN        Q  \n",
       "1    47.0      1      0              363272    7.0000   NaN        S  \n",
       "2    62.0      0      0              240276    9.6875   NaN        Q  \n",
       "3    27.0      0      0              315154    8.6625   NaN        S  \n",
       "4    22.0      1      1             3101298   12.2875   NaN        S  \n",
       "..    ...    ...    ...                 ...       ...   ...      ...  \n",
       "413   NaN      0      0           A.5. 3236    8.0500   NaN        S  \n",
       "414  39.0      0      0            PC 17758  108.9000  C105        C  \n",
       "415  38.5      0      0  SOTON/O.Q. 3101262    7.2500   NaN        S  \n",
       "416   NaN      0      0              359309    8.0500   NaN        S  \n",
       "417   NaN      1      1                2668   22.3583   NaN        C  \n",
       "\n",
       "[418 rows x 11 columns]"
      ]
     },
     "execution_count": 242,
     "metadata": {},
     "output_type": "execute_result"
    }
   ],
   "source": [
    "df"
   ]
  },
  {
   "cell_type": "code",
   "execution_count": 42,
   "id": "1cd8bbe7",
   "metadata": {},
   "outputs": [],
   "source": [
    "dfmean = df['Fare'].mean()"
   ]
  },
  {
   "cell_type": "code",
   "execution_count": 43,
   "id": "fa3c43cb",
   "metadata": {},
   "outputs": [
    {
     "name": "stdout",
     "output_type": "stream",
     "text": [
      "35.627188489208635\n"
     ]
    }
   ],
   "source": [
    "print(dfmean)"
   ]
  },
  {
   "cell_type": "code",
   "execution_count": 44,
   "id": "9a9749d9",
   "metadata": {},
   "outputs": [],
   "source": [
    "def func1():\n",
    "    if df[\"Fare\"] > dfmean :\n",
    "        return "
   ]
  },
  {
   "cell_type": "code",
   "execution_count": 45,
   "id": "5bee4b4b",
   "metadata": {},
   "outputs": [],
   "source": [
    "df[\"fare_high\"] = df['Fare'] > dfmean"
   ]
  },
  {
   "cell_type": "code",
   "execution_count": 46,
   "id": "4298abb4",
   "metadata": {},
   "outputs": [
    {
     "data": {
      "text/plain": [
       "0      False\n",
       "1      False\n",
       "2      False\n",
       "3      False\n",
       "4      False\n",
       "       ...  \n",
       "413    False\n",
       "414     True\n",
       "415    False\n",
       "416    False\n",
       "417    False\n",
       "Name: fare_high, Length: 418, dtype: bool"
      ]
     },
     "execution_count": 46,
     "metadata": {},
     "output_type": "execute_result"
    }
   ],
   "source": [
    "df[\"fare_high\"]"
   ]
  },
  {
   "cell_type": "code",
   "execution_count": 49,
   "id": "e49f5797",
   "metadata": {},
   "outputs": [
    {
     "data": {
      "text/html": [
       "<div>\n",
       "<style scoped>\n",
       "    .dataframe tbody tr th:only-of-type {\n",
       "        vertical-align: middle;\n",
       "    }\n",
       "\n",
       "    .dataframe tbody tr th {\n",
       "        vertical-align: top;\n",
       "    }\n",
       "\n",
       "    .dataframe thead th {\n",
       "        text-align: right;\n",
       "    }\n",
       "</style>\n",
       "<table border=\"1\" class=\"dataframe\">\n",
       "  <thead>\n",
       "    <tr style=\"text-align: right;\">\n",
       "      <th></th>\n",
       "      <th>PassengerId</th>\n",
       "      <th>Pclass</th>\n",
       "      <th>Name</th>\n",
       "      <th>Sex</th>\n",
       "      <th>Age</th>\n",
       "      <th>SibSp</th>\n",
       "      <th>Parch</th>\n",
       "      <th>Ticket</th>\n",
       "      <th>Fare</th>\n",
       "      <th>Cabin</th>\n",
       "      <th>Embarked</th>\n",
       "      <th>fare_high</th>\n",
       "    </tr>\n",
       "  </thead>\n",
       "  <tbody>\n",
       "    <tr>\n",
       "      <th>0</th>\n",
       "      <td>892</td>\n",
       "      <td>3</td>\n",
       "      <td>Kelly, Mr. James</td>\n",
       "      <td>0</td>\n",
       "      <td>34.5</td>\n",
       "      <td>0</td>\n",
       "      <td>0</td>\n",
       "      <td>330911</td>\n",
       "      <td>7.8292</td>\n",
       "      <td>NaN</td>\n",
       "      <td>Q</td>\n",
       "      <td>False</td>\n",
       "    </tr>\n",
       "    <tr>\n",
       "      <th>1</th>\n",
       "      <td>893</td>\n",
       "      <td>3</td>\n",
       "      <td>Wilkes, Mrs. James (Ellen Needs)</td>\n",
       "      <td>0</td>\n",
       "      <td>47.0</td>\n",
       "      <td>1</td>\n",
       "      <td>0</td>\n",
       "      <td>363272</td>\n",
       "      <td>7.0000</td>\n",
       "      <td>NaN</td>\n",
       "      <td>S</td>\n",
       "      <td>False</td>\n",
       "    </tr>\n",
       "    <tr>\n",
       "      <th>2</th>\n",
       "      <td>894</td>\n",
       "      <td>2</td>\n",
       "      <td>Myles, Mr. Thomas Francis</td>\n",
       "      <td>0</td>\n",
       "      <td>62.0</td>\n",
       "      <td>0</td>\n",
       "      <td>0</td>\n",
       "      <td>240276</td>\n",
       "      <td>9.6875</td>\n",
       "      <td>NaN</td>\n",
       "      <td>Q</td>\n",
       "      <td>False</td>\n",
       "    </tr>\n",
       "    <tr>\n",
       "      <th>3</th>\n",
       "      <td>895</td>\n",
       "      <td>3</td>\n",
       "      <td>Wirz, Mr. Albert</td>\n",
       "      <td>0</td>\n",
       "      <td>27.0</td>\n",
       "      <td>0</td>\n",
       "      <td>0</td>\n",
       "      <td>315154</td>\n",
       "      <td>8.6625</td>\n",
       "      <td>NaN</td>\n",
       "      <td>S</td>\n",
       "      <td>False</td>\n",
       "    </tr>\n",
       "    <tr>\n",
       "      <th>4</th>\n",
       "      <td>896</td>\n",
       "      <td>3</td>\n",
       "      <td>Hirvonen, Mrs. Alexander (Helga E Lindqvist)</td>\n",
       "      <td>0</td>\n",
       "      <td>22.0</td>\n",
       "      <td>1</td>\n",
       "      <td>1</td>\n",
       "      <td>3101298</td>\n",
       "      <td>12.2875</td>\n",
       "      <td>NaN</td>\n",
       "      <td>S</td>\n",
       "      <td>False</td>\n",
       "    </tr>\n",
       "    <tr>\n",
       "      <th>...</th>\n",
       "      <td>...</td>\n",
       "      <td>...</td>\n",
       "      <td>...</td>\n",
       "      <td>...</td>\n",
       "      <td>...</td>\n",
       "      <td>...</td>\n",
       "      <td>...</td>\n",
       "      <td>...</td>\n",
       "      <td>...</td>\n",
       "      <td>...</td>\n",
       "      <td>...</td>\n",
       "      <td>...</td>\n",
       "    </tr>\n",
       "    <tr>\n",
       "      <th>413</th>\n",
       "      <td>1305</td>\n",
       "      <td>3</td>\n",
       "      <td>Spector, Mr. Woolf</td>\n",
       "      <td>0</td>\n",
       "      <td>NaN</td>\n",
       "      <td>0</td>\n",
       "      <td>0</td>\n",
       "      <td>A.5. 3236</td>\n",
       "      <td>8.0500</td>\n",
       "      <td>NaN</td>\n",
       "      <td>S</td>\n",
       "      <td>False</td>\n",
       "    </tr>\n",
       "    <tr>\n",
       "      <th>414</th>\n",
       "      <td>1306</td>\n",
       "      <td>1</td>\n",
       "      <td>Oliva y Ocana, Dona. Fermina</td>\n",
       "      <td>0</td>\n",
       "      <td>39.0</td>\n",
       "      <td>0</td>\n",
       "      <td>0</td>\n",
       "      <td>PC 17758</td>\n",
       "      <td>108.9000</td>\n",
       "      <td>C105</td>\n",
       "      <td>C</td>\n",
       "      <td>True</td>\n",
       "    </tr>\n",
       "    <tr>\n",
       "      <th>415</th>\n",
       "      <td>1307</td>\n",
       "      <td>3</td>\n",
       "      <td>Saether, Mr. Simon Sivertsen</td>\n",
       "      <td>0</td>\n",
       "      <td>38.5</td>\n",
       "      <td>0</td>\n",
       "      <td>0</td>\n",
       "      <td>SOTON/O.Q. 3101262</td>\n",
       "      <td>7.2500</td>\n",
       "      <td>NaN</td>\n",
       "      <td>S</td>\n",
       "      <td>False</td>\n",
       "    </tr>\n",
       "    <tr>\n",
       "      <th>416</th>\n",
       "      <td>1308</td>\n",
       "      <td>3</td>\n",
       "      <td>Ware, Mr. Frederick</td>\n",
       "      <td>0</td>\n",
       "      <td>NaN</td>\n",
       "      <td>0</td>\n",
       "      <td>0</td>\n",
       "      <td>359309</td>\n",
       "      <td>8.0500</td>\n",
       "      <td>NaN</td>\n",
       "      <td>S</td>\n",
       "      <td>False</td>\n",
       "    </tr>\n",
       "    <tr>\n",
       "      <th>417</th>\n",
       "      <td>1309</td>\n",
       "      <td>3</td>\n",
       "      <td>Peter, Master. Michael J</td>\n",
       "      <td>0</td>\n",
       "      <td>NaN</td>\n",
       "      <td>1</td>\n",
       "      <td>1</td>\n",
       "      <td>2668</td>\n",
       "      <td>22.3583</td>\n",
       "      <td>NaN</td>\n",
       "      <td>C</td>\n",
       "      <td>False</td>\n",
       "    </tr>\n",
       "  </tbody>\n",
       "</table>\n",
       "<p>418 rows × 12 columns</p>\n",
       "</div>"
      ],
      "text/plain": [
       "     PassengerId  Pclass                                          Name  Sex  \\\n",
       "0            892       3                              Kelly, Mr. James    0   \n",
       "1            893       3              Wilkes, Mrs. James (Ellen Needs)    0   \n",
       "2            894       2                     Myles, Mr. Thomas Francis    0   \n",
       "3            895       3                              Wirz, Mr. Albert    0   \n",
       "4            896       3  Hirvonen, Mrs. Alexander (Helga E Lindqvist)    0   \n",
       "..           ...     ...                                           ...  ...   \n",
       "413         1305       3                            Spector, Mr. Woolf    0   \n",
       "414         1306       1                  Oliva y Ocana, Dona. Fermina    0   \n",
       "415         1307       3                  Saether, Mr. Simon Sivertsen    0   \n",
       "416         1308       3                           Ware, Mr. Frederick    0   \n",
       "417         1309       3                      Peter, Master. Michael J    0   \n",
       "\n",
       "      Age  SibSp  Parch              Ticket      Fare Cabin Embarked  \\\n",
       "0    34.5      0      0              330911    7.8292   NaN        Q   \n",
       "1    47.0      1      0              363272    7.0000   NaN        S   \n",
       "2    62.0      0      0              240276    9.6875   NaN        Q   \n",
       "3    27.0      0      0              315154    8.6625   NaN        S   \n",
       "4    22.0      1      1             3101298   12.2875   NaN        S   \n",
       "..    ...    ...    ...                 ...       ...   ...      ...   \n",
       "413   NaN      0      0           A.5. 3236    8.0500   NaN        S   \n",
       "414  39.0      0      0            PC 17758  108.9000  C105        C   \n",
       "415  38.5      0      0  SOTON/O.Q. 3101262    7.2500   NaN        S   \n",
       "416   NaN      0      0              359309    8.0500   NaN        S   \n",
       "417   NaN      1      1                2668   22.3583   NaN        C   \n",
       "\n",
       "     fare_high  \n",
       "0        False  \n",
       "1        False  \n",
       "2        False  \n",
       "3        False  \n",
       "4        False  \n",
       "..         ...  \n",
       "413      False  \n",
       "414       True  \n",
       "415      False  \n",
       "416      False  \n",
       "417      False  \n",
       "\n",
       "[418 rows x 12 columns]"
      ]
     },
     "execution_count": 49,
     "metadata": {},
     "output_type": "execute_result"
    }
   ],
   "source": [
    "df"
   ]
  },
  {
   "cell_type": "markdown",
   "id": "af2227da",
   "metadata": {},
   "source": [
    "# - 문제 17: Passengerid가 아래와 같은 사람의 이름을 출력하라\n",
    "    - 901, 925, 950, 951, 952, 1026, 1028, 1039, 1040, 1106"
   ]
  },
  {
   "cell_type": "code",
   "execution_count": 54,
   "id": "2b9a80d7",
   "metadata": {
    "scrolled": true
   },
   "outputs": [
    {
     "ename": "AttributeError",
     "evalue": "'DataFrame' object has no attribute 'ioc'",
     "output_type": "error",
     "traceback": [
      "\u001b[1;31m---------------------------------------------------------------------------\u001b[0m",
      "\u001b[1;31mAttributeError\u001b[0m                            Traceback (most recent call last)",
      "Cell \u001b[1;32mIn[54], line 1\u001b[0m\n\u001b[1;32m----> 1\u001b[0m \u001b[43mdf\u001b[49m\u001b[38;5;241;43m.\u001b[39;49m\u001b[43mioc\u001b[49m[[\u001b[38;5;241m901\u001b[39m, \u001b[38;5;241m925\u001b[39m, \u001b[38;5;241m950\u001b[39m, \u001b[38;5;241m951\u001b[39m, \u001b[38;5;241m952\u001b[39m, \u001b[38;5;241m1026\u001b[39m, \u001b[38;5;241m1028\u001b[39m, \u001b[38;5;241m1039\u001b[39m, \u001b[38;5;241m1040\u001b[39m, \u001b[38;5;241m1106\u001b[39m]]\n",
      "File \u001b[1;32mC:\\ProgramData\\anaconda3\\lib\\site-packages\\pandas\\core\\generic.py:5902\u001b[0m, in \u001b[0;36mNDFrame.__getattr__\u001b[1;34m(self, name)\u001b[0m\n\u001b[0;32m   5895\u001b[0m \u001b[38;5;28;01mif\u001b[39;00m (\n\u001b[0;32m   5896\u001b[0m     name \u001b[38;5;129;01mnot\u001b[39;00m \u001b[38;5;129;01min\u001b[39;00m \u001b[38;5;28mself\u001b[39m\u001b[38;5;241m.\u001b[39m_internal_names_set\n\u001b[0;32m   5897\u001b[0m     \u001b[38;5;129;01mand\u001b[39;00m name \u001b[38;5;129;01mnot\u001b[39;00m \u001b[38;5;129;01min\u001b[39;00m \u001b[38;5;28mself\u001b[39m\u001b[38;5;241m.\u001b[39m_metadata\n\u001b[0;32m   5898\u001b[0m     \u001b[38;5;129;01mand\u001b[39;00m name \u001b[38;5;129;01mnot\u001b[39;00m \u001b[38;5;129;01min\u001b[39;00m \u001b[38;5;28mself\u001b[39m\u001b[38;5;241m.\u001b[39m_accessors\n\u001b[0;32m   5899\u001b[0m     \u001b[38;5;129;01mand\u001b[39;00m \u001b[38;5;28mself\u001b[39m\u001b[38;5;241m.\u001b[39m_info_axis\u001b[38;5;241m.\u001b[39m_can_hold_identifiers_and_holds_name(name)\n\u001b[0;32m   5900\u001b[0m ):\n\u001b[0;32m   5901\u001b[0m     \u001b[38;5;28;01mreturn\u001b[39;00m \u001b[38;5;28mself\u001b[39m[name]\n\u001b[1;32m-> 5902\u001b[0m \u001b[38;5;28;01mreturn\u001b[39;00m \u001b[38;5;28;43mobject\u001b[39;49m\u001b[38;5;241;43m.\u001b[39;49m\u001b[38;5;21;43m__getattribute__\u001b[39;49m\u001b[43m(\u001b[49m\u001b[38;5;28;43mself\u001b[39;49m\u001b[43m,\u001b[49m\u001b[43m \u001b[49m\u001b[43mname\u001b[49m\u001b[43m)\u001b[49m\n",
      "\u001b[1;31mAttributeError\u001b[0m: 'DataFrame' object has no attribute 'ioc'"
     ]
    }
   ],
   "source": [
    "df.ioc[[901, 925, 950, 951, 952, 1026, 1028, 1039, 1040, 1106]]"
   ]
  },
  {
   "cell_type": "code",
   "execution_count": 51,
   "id": "10e84f1a",
   "metadata": {},
   "outputs": [],
   "source": [
    "df.index = df['PassengerId']"
   ]
  },
  {
   "cell_type": "code",
   "execution_count": 55,
   "id": "a8c9221e",
   "metadata": {},
   "outputs": [
    {
     "data": {
      "text/plain": [
       "Int64Index([ 892,  893,  894,  895,  896,  897,  898,  899,  900,  901,\n",
       "            ...\n",
       "            1300, 1301, 1302, 1303, 1304, 1305, 1306, 1307, 1308, 1309],\n",
       "           dtype='int64', name='PassengerId', length=418)"
      ]
     },
     "execution_count": 55,
     "metadata": {},
     "output_type": "execute_result"
    }
   ],
   "source": [
    "df.index"
   ]
  },
  {
   "cell_type": "code",
   "execution_count": 53,
   "id": "af906997",
   "metadata": {},
   "outputs": [
    {
     "data": {
      "text/html": [
       "<div>\n",
       "<style scoped>\n",
       "    .dataframe tbody tr th:only-of-type {\n",
       "        vertical-align: middle;\n",
       "    }\n",
       "\n",
       "    .dataframe tbody tr th {\n",
       "        vertical-align: top;\n",
       "    }\n",
       "\n",
       "    .dataframe thead th {\n",
       "        text-align: right;\n",
       "    }\n",
       "</style>\n",
       "<table border=\"1\" class=\"dataframe\">\n",
       "  <thead>\n",
       "    <tr style=\"text-align: right;\">\n",
       "      <th></th>\n",
       "      <th>PassengerId</th>\n",
       "      <th>Pclass</th>\n",
       "      <th>Name</th>\n",
       "      <th>Sex</th>\n",
       "      <th>Age</th>\n",
       "      <th>SibSp</th>\n",
       "      <th>Parch</th>\n",
       "      <th>Ticket</th>\n",
       "      <th>Fare</th>\n",
       "      <th>Cabin</th>\n",
       "      <th>Embarked</th>\n",
       "      <th>fare_high</th>\n",
       "    </tr>\n",
       "    <tr>\n",
       "      <th>PassengerId</th>\n",
       "      <th></th>\n",
       "      <th></th>\n",
       "      <th></th>\n",
       "      <th></th>\n",
       "      <th></th>\n",
       "      <th></th>\n",
       "      <th></th>\n",
       "      <th></th>\n",
       "      <th></th>\n",
       "      <th></th>\n",
       "      <th></th>\n",
       "      <th></th>\n",
       "    </tr>\n",
       "  </thead>\n",
       "  <tbody>\n",
       "    <tr>\n",
       "      <th>901</th>\n",
       "      <td>901</td>\n",
       "      <td>3</td>\n",
       "      <td>Davies, Mr. John Samuel</td>\n",
       "      <td>0</td>\n",
       "      <td>21.0</td>\n",
       "      <td>2</td>\n",
       "      <td>0</td>\n",
       "      <td>A/4 48871</td>\n",
       "      <td>24.1500</td>\n",
       "      <td>NaN</td>\n",
       "      <td>S</td>\n",
       "      <td>False</td>\n",
       "    </tr>\n",
       "    <tr>\n",
       "      <th>925</th>\n",
       "      <td>925</td>\n",
       "      <td>3</td>\n",
       "      <td>Johnston, Mrs. Andrew G (Elizabeth Lily\" Watson)\"</td>\n",
       "      <td>0</td>\n",
       "      <td>NaN</td>\n",
       "      <td>1</td>\n",
       "      <td>2</td>\n",
       "      <td>W./C. 6607</td>\n",
       "      <td>23.4500</td>\n",
       "      <td>NaN</td>\n",
       "      <td>S</td>\n",
       "      <td>False</td>\n",
       "    </tr>\n",
       "    <tr>\n",
       "      <th>950</th>\n",
       "      <td>950</td>\n",
       "      <td>3</td>\n",
       "      <td>Davison, Mr. Thomas Henry</td>\n",
       "      <td>0</td>\n",
       "      <td>NaN</td>\n",
       "      <td>1</td>\n",
       "      <td>0</td>\n",
       "      <td>386525</td>\n",
       "      <td>16.1000</td>\n",
       "      <td>NaN</td>\n",
       "      <td>S</td>\n",
       "      <td>False</td>\n",
       "    </tr>\n",
       "    <tr>\n",
       "      <th>951</th>\n",
       "      <td>951</td>\n",
       "      <td>1</td>\n",
       "      <td>Chaudanson, Miss. Victorine</td>\n",
       "      <td>0</td>\n",
       "      <td>36.0</td>\n",
       "      <td>0</td>\n",
       "      <td>0</td>\n",
       "      <td>PC 17608</td>\n",
       "      <td>262.3750</td>\n",
       "      <td>B61</td>\n",
       "      <td>C</td>\n",
       "      <td>True</td>\n",
       "    </tr>\n",
       "    <tr>\n",
       "      <th>952</th>\n",
       "      <td>952</td>\n",
       "      <td>3</td>\n",
       "      <td>Dika, Mr. Mirko</td>\n",
       "      <td>0</td>\n",
       "      <td>17.0</td>\n",
       "      <td>0</td>\n",
       "      <td>0</td>\n",
       "      <td>349232</td>\n",
       "      <td>7.8958</td>\n",
       "      <td>NaN</td>\n",
       "      <td>S</td>\n",
       "      <td>False</td>\n",
       "    </tr>\n",
       "    <tr>\n",
       "      <th>1026</th>\n",
       "      <td>1026</td>\n",
       "      <td>3</td>\n",
       "      <td>Dintcheff, Mr. Valtcho</td>\n",
       "      <td>0</td>\n",
       "      <td>43.0</td>\n",
       "      <td>0</td>\n",
       "      <td>0</td>\n",
       "      <td>349226</td>\n",
       "      <td>7.8958</td>\n",
       "      <td>NaN</td>\n",
       "      <td>S</td>\n",
       "      <td>False</td>\n",
       "    </tr>\n",
       "    <tr>\n",
       "      <th>1028</th>\n",
       "      <td>1028</td>\n",
       "      <td>3</td>\n",
       "      <td>Zakarian, Mr. Mapriededer</td>\n",
       "      <td>0</td>\n",
       "      <td>26.5</td>\n",
       "      <td>0</td>\n",
       "      <td>0</td>\n",
       "      <td>2656</td>\n",
       "      <td>7.2250</td>\n",
       "      <td>NaN</td>\n",
       "      <td>C</td>\n",
       "      <td>False</td>\n",
       "    </tr>\n",
       "    <tr>\n",
       "      <th>1039</th>\n",
       "      <td>1039</td>\n",
       "      <td>3</td>\n",
       "      <td>Davies, Mr. Evan</td>\n",
       "      <td>0</td>\n",
       "      <td>22.0</td>\n",
       "      <td>0</td>\n",
       "      <td>0</td>\n",
       "      <td>SC/A4 23568</td>\n",
       "      <td>8.0500</td>\n",
       "      <td>NaN</td>\n",
       "      <td>S</td>\n",
       "      <td>False</td>\n",
       "    </tr>\n",
       "    <tr>\n",
       "      <th>1040</th>\n",
       "      <td>1040</td>\n",
       "      <td>1</td>\n",
       "      <td>Crafton, Mr. John Bertram</td>\n",
       "      <td>0</td>\n",
       "      <td>NaN</td>\n",
       "      <td>0</td>\n",
       "      <td>0</td>\n",
       "      <td>113791</td>\n",
       "      <td>26.5500</td>\n",
       "      <td>NaN</td>\n",
       "      <td>S</td>\n",
       "      <td>False</td>\n",
       "    </tr>\n",
       "    <tr>\n",
       "      <th>1106</th>\n",
       "      <td>1106</td>\n",
       "      <td>3</td>\n",
       "      <td>Andersson, Miss. Ida Augusta Margareta</td>\n",
       "      <td>0</td>\n",
       "      <td>38.0</td>\n",
       "      <td>4</td>\n",
       "      <td>2</td>\n",
       "      <td>347091</td>\n",
       "      <td>7.7750</td>\n",
       "      <td>NaN</td>\n",
       "      <td>S</td>\n",
       "      <td>False</td>\n",
       "    </tr>\n",
       "  </tbody>\n",
       "</table>\n",
       "</div>"
      ],
      "text/plain": [
       "             PassengerId  Pclass  \\\n",
       "PassengerId                        \n",
       "901                  901       3   \n",
       "925                  925       3   \n",
       "950                  950       3   \n",
       "951                  951       1   \n",
       "952                  952       3   \n",
       "1026                1026       3   \n",
       "1028                1028       3   \n",
       "1039                1039       3   \n",
       "1040                1040       1   \n",
       "1106                1106       3   \n",
       "\n",
       "                                                          Name  Sex   Age  \\\n",
       "PassengerId                                                                 \n",
       "901                                    Davies, Mr. John Samuel    0  21.0   \n",
       "925          Johnston, Mrs. Andrew G (Elizabeth Lily\" Watson)\"    0   NaN   \n",
       "950                                  Davison, Mr. Thomas Henry    0   NaN   \n",
       "951                                Chaudanson, Miss. Victorine    0  36.0   \n",
       "952                                            Dika, Mr. Mirko    0  17.0   \n",
       "1026                                    Dintcheff, Mr. Valtcho    0  43.0   \n",
       "1028                                 Zakarian, Mr. Mapriededer    0  26.5   \n",
       "1039                                          Davies, Mr. Evan    0  22.0   \n",
       "1040                                 Crafton, Mr. John Bertram    0   NaN   \n",
       "1106                    Andersson, Miss. Ida Augusta Margareta    0  38.0   \n",
       "\n",
       "             SibSp  Parch       Ticket      Fare Cabin Embarked  fare_high  \n",
       "PassengerId                                                                 \n",
       "901              2      0    A/4 48871   24.1500   NaN        S      False  \n",
       "925              1      2   W./C. 6607   23.4500   NaN        S      False  \n",
       "950              1      0       386525   16.1000   NaN        S      False  \n",
       "951              0      0     PC 17608  262.3750   B61        C       True  \n",
       "952              0      0       349232    7.8958   NaN        S      False  \n",
       "1026             0      0       349226    7.8958   NaN        S      False  \n",
       "1028             0      0         2656    7.2250   NaN        C      False  \n",
       "1039             0      0  SC/A4 23568    8.0500   NaN        S      False  \n",
       "1040             0      0       113791   26.5500   NaN        S      False  \n",
       "1106             4      2       347091    7.7750   NaN        S      False  "
      ]
     },
     "execution_count": 53,
     "metadata": {},
     "output_type": "execute_result"
    }
   ],
   "source": [
    "df.loc[[901, 925, 950, 951, 952, 1026, 1028, 1039, 1040, 1106]]"
   ]
  },
  {
   "cell_type": "code",
   "execution_count": null,
   "id": "191c0f9e",
   "metadata": {},
   "outputs": [],
   "source": []
  },
  {
   "cell_type": "code",
   "execution_count": null,
   "id": "4b0cf743",
   "metadata": {},
   "outputs": [],
   "source": []
  },
  {
   "cell_type": "code",
   "execution_count": null,
   "id": "89092ef2",
   "metadata": {},
   "outputs": [],
   "source": []
  },
  {
   "cell_type": "markdown",
   "id": "9572bfc8",
   "metadata": {},
   "source": [
    "# 문제 18: SibSp가 0인 그룹과 1 이상인 그룹 사이에 Fare의 차이가 있는지 통계적으로 확인하라"
   ]
  },
  {
   "cell_type": "code",
   "execution_count": 249,
   "id": "6ed55a7e",
   "metadata": {
    "scrolled": true
   },
   "outputs": [
    {
     "data": {
      "text/html": [
       "<div>\n",
       "<style scoped>\n",
       "    .dataframe tbody tr th:only-of-type {\n",
       "        vertical-align: middle;\n",
       "    }\n",
       "\n",
       "    .dataframe tbody tr th {\n",
       "        vertical-align: top;\n",
       "    }\n",
       "\n",
       "    .dataframe thead th {\n",
       "        text-align: right;\n",
       "    }\n",
       "</style>\n",
       "<table border=\"1\" class=\"dataframe\">\n",
       "  <thead>\n",
       "    <tr style=\"text-align: right;\">\n",
       "      <th></th>\n",
       "      <th>PassengerId</th>\n",
       "      <th>Pclass</th>\n",
       "      <th>Name</th>\n",
       "      <th>Sex</th>\n",
       "      <th>Age</th>\n",
       "      <th>SibSp</th>\n",
       "      <th>Parch</th>\n",
       "      <th>Ticket</th>\n",
       "      <th>Fare</th>\n",
       "      <th>Cabin</th>\n",
       "      <th>Embarked</th>\n",
       "      <th>fare_high</th>\n",
       "    </tr>\n",
       "  </thead>\n",
       "  <tbody>\n",
       "    <tr>\n",
       "      <th>0</th>\n",
       "      <td>892</td>\n",
       "      <td>3</td>\n",
       "      <td>Kelly, Mr. James</td>\n",
       "      <td>0</td>\n",
       "      <td>34.5</td>\n",
       "      <td>0</td>\n",
       "      <td>0</td>\n",
       "      <td>330911</td>\n",
       "      <td>7.8292</td>\n",
       "      <td>NaN</td>\n",
       "      <td>Q</td>\n",
       "      <td>&lt;function func1 at 0x000002C51B85F760&gt;</td>\n",
       "    </tr>\n",
       "    <tr>\n",
       "      <th>1</th>\n",
       "      <td>893</td>\n",
       "      <td>3</td>\n",
       "      <td>Wilkes, Mrs. James (Ellen Needs)</td>\n",
       "      <td>0</td>\n",
       "      <td>47.0</td>\n",
       "      <td>1</td>\n",
       "      <td>0</td>\n",
       "      <td>363272</td>\n",
       "      <td>7.0000</td>\n",
       "      <td>NaN</td>\n",
       "      <td>S</td>\n",
       "      <td>&lt;function func1 at 0x000002C51B85F760&gt;</td>\n",
       "    </tr>\n",
       "    <tr>\n",
       "      <th>2</th>\n",
       "      <td>894</td>\n",
       "      <td>2</td>\n",
       "      <td>Myles, Mr. Thomas Francis</td>\n",
       "      <td>0</td>\n",
       "      <td>62.0</td>\n",
       "      <td>0</td>\n",
       "      <td>0</td>\n",
       "      <td>240276</td>\n",
       "      <td>9.6875</td>\n",
       "      <td>NaN</td>\n",
       "      <td>Q</td>\n",
       "      <td>&lt;function func1 at 0x000002C51B85F760&gt;</td>\n",
       "    </tr>\n",
       "    <tr>\n",
       "      <th>3</th>\n",
       "      <td>895</td>\n",
       "      <td>3</td>\n",
       "      <td>Wirz, Mr. Albert</td>\n",
       "      <td>0</td>\n",
       "      <td>27.0</td>\n",
       "      <td>0</td>\n",
       "      <td>0</td>\n",
       "      <td>315154</td>\n",
       "      <td>8.6625</td>\n",
       "      <td>NaN</td>\n",
       "      <td>S</td>\n",
       "      <td>&lt;function func1 at 0x000002C51B85F760&gt;</td>\n",
       "    </tr>\n",
       "    <tr>\n",
       "      <th>4</th>\n",
       "      <td>896</td>\n",
       "      <td>3</td>\n",
       "      <td>Hirvonen, Mrs. Alexander (Helga E Lindqvist)</td>\n",
       "      <td>0</td>\n",
       "      <td>22.0</td>\n",
       "      <td>1</td>\n",
       "      <td>1</td>\n",
       "      <td>3101298</td>\n",
       "      <td>12.2875</td>\n",
       "      <td>NaN</td>\n",
       "      <td>S</td>\n",
       "      <td>&lt;function func1 at 0x000002C51B85F760&gt;</td>\n",
       "    </tr>\n",
       "    <tr>\n",
       "      <th>...</th>\n",
       "      <td>...</td>\n",
       "      <td>...</td>\n",
       "      <td>...</td>\n",
       "      <td>...</td>\n",
       "      <td>...</td>\n",
       "      <td>...</td>\n",
       "      <td>...</td>\n",
       "      <td>...</td>\n",
       "      <td>...</td>\n",
       "      <td>...</td>\n",
       "      <td>...</td>\n",
       "      <td>...</td>\n",
       "    </tr>\n",
       "    <tr>\n",
       "      <th>413</th>\n",
       "      <td>1305</td>\n",
       "      <td>3</td>\n",
       "      <td>Spector, Mr. Woolf</td>\n",
       "      <td>0</td>\n",
       "      <td>NaN</td>\n",
       "      <td>0</td>\n",
       "      <td>0</td>\n",
       "      <td>A.5. 3236</td>\n",
       "      <td>8.0500</td>\n",
       "      <td>NaN</td>\n",
       "      <td>S</td>\n",
       "      <td>&lt;function func1 at 0x000002C51B85F760&gt;</td>\n",
       "    </tr>\n",
       "    <tr>\n",
       "      <th>414</th>\n",
       "      <td>1306</td>\n",
       "      <td>1</td>\n",
       "      <td>Oliva y Ocana, Dona. Fermina</td>\n",
       "      <td>0</td>\n",
       "      <td>39.0</td>\n",
       "      <td>0</td>\n",
       "      <td>0</td>\n",
       "      <td>PC 17758</td>\n",
       "      <td>108.9000</td>\n",
       "      <td>C105</td>\n",
       "      <td>C</td>\n",
       "      <td>&lt;function func1 at 0x000002C51B85F760&gt;</td>\n",
       "    </tr>\n",
       "    <tr>\n",
       "      <th>415</th>\n",
       "      <td>1307</td>\n",
       "      <td>3</td>\n",
       "      <td>Saether, Mr. Simon Sivertsen</td>\n",
       "      <td>0</td>\n",
       "      <td>38.5</td>\n",
       "      <td>0</td>\n",
       "      <td>0</td>\n",
       "      <td>SOTON/O.Q. 3101262</td>\n",
       "      <td>7.2500</td>\n",
       "      <td>NaN</td>\n",
       "      <td>S</td>\n",
       "      <td>&lt;function func1 at 0x000002C51B85F760&gt;</td>\n",
       "    </tr>\n",
       "    <tr>\n",
       "      <th>416</th>\n",
       "      <td>1308</td>\n",
       "      <td>3</td>\n",
       "      <td>Ware, Mr. Frederick</td>\n",
       "      <td>0</td>\n",
       "      <td>NaN</td>\n",
       "      <td>0</td>\n",
       "      <td>0</td>\n",
       "      <td>359309</td>\n",
       "      <td>8.0500</td>\n",
       "      <td>NaN</td>\n",
       "      <td>S</td>\n",
       "      <td>&lt;function func1 at 0x000002C51B85F760&gt;</td>\n",
       "    </tr>\n",
       "    <tr>\n",
       "      <th>417</th>\n",
       "      <td>1309</td>\n",
       "      <td>3</td>\n",
       "      <td>Peter, Master. Michael J</td>\n",
       "      <td>0</td>\n",
       "      <td>NaN</td>\n",
       "      <td>1</td>\n",
       "      <td>1</td>\n",
       "      <td>2668</td>\n",
       "      <td>22.3583</td>\n",
       "      <td>NaN</td>\n",
       "      <td>C</td>\n",
       "      <td>&lt;function func1 at 0x000002C51B85F760&gt;</td>\n",
       "    </tr>\n",
       "  </tbody>\n",
       "</table>\n",
       "<p>418 rows × 12 columns</p>\n",
       "</div>"
      ],
      "text/plain": [
       "     PassengerId  Pclass                                          Name  Sex  \\\n",
       "0            892       3                              Kelly, Mr. James    0   \n",
       "1            893       3              Wilkes, Mrs. James (Ellen Needs)    0   \n",
       "2            894       2                     Myles, Mr. Thomas Francis    0   \n",
       "3            895       3                              Wirz, Mr. Albert    0   \n",
       "4            896       3  Hirvonen, Mrs. Alexander (Helga E Lindqvist)    0   \n",
       "..           ...     ...                                           ...  ...   \n",
       "413         1305       3                            Spector, Mr. Woolf    0   \n",
       "414         1306       1                  Oliva y Ocana, Dona. Fermina    0   \n",
       "415         1307       3                  Saether, Mr. Simon Sivertsen    0   \n",
       "416         1308       3                           Ware, Mr. Frederick    0   \n",
       "417         1309       3                      Peter, Master. Michael J    0   \n",
       "\n",
       "      Age  SibSp  Parch              Ticket      Fare Cabin Embarked  \\\n",
       "0    34.5      0      0              330911    7.8292   NaN        Q   \n",
       "1    47.0      1      0              363272    7.0000   NaN        S   \n",
       "2    62.0      0      0              240276    9.6875   NaN        Q   \n",
       "3    27.0      0      0              315154    8.6625   NaN        S   \n",
       "4    22.0      1      1             3101298   12.2875   NaN        S   \n",
       "..    ...    ...    ...                 ...       ...   ...      ...   \n",
       "413   NaN      0      0           A.5. 3236    8.0500   NaN        S   \n",
       "414  39.0      0      0            PC 17758  108.9000  C105        C   \n",
       "415  38.5      0      0  SOTON/O.Q. 3101262    7.2500   NaN        S   \n",
       "416   NaN      0      0              359309    8.0500   NaN        S   \n",
       "417   NaN      1      1                2668   22.3583   NaN        C   \n",
       "\n",
       "                                  fare_high  \n",
       "0    <function func1 at 0x000002C51B85F760>  \n",
       "1    <function func1 at 0x000002C51B85F760>  \n",
       "2    <function func1 at 0x000002C51B85F760>  \n",
       "3    <function func1 at 0x000002C51B85F760>  \n",
       "4    <function func1 at 0x000002C51B85F760>  \n",
       "..                                      ...  \n",
       "413  <function func1 at 0x000002C51B85F760>  \n",
       "414  <function func1 at 0x000002C51B85F760>  \n",
       "415  <function func1 at 0x000002C51B85F760>  \n",
       "416  <function func1 at 0x000002C51B85F760>  \n",
       "417  <function func1 at 0x000002C51B85F760>  \n",
       "\n",
       "[418 rows x 12 columns]"
      ]
     },
     "execution_count": 249,
     "metadata": {},
     "output_type": "execute_result"
    }
   ],
   "source": [
    "df"
   ]
  },
  {
   "cell_type": "code",
   "execution_count": 250,
   "id": "43e61324",
   "metadata": {},
   "outputs": [
    {
     "data": {
      "text/plain": [
       "0      0\n",
       "1      1\n",
       "2      0\n",
       "3      0\n",
       "4      1\n",
       "      ..\n",
       "413    0\n",
       "414    0\n",
       "415    0\n",
       "416    0\n",
       "417    1\n",
       "Name: SibSp, Length: 418, dtype: int64"
      ]
     },
     "execution_count": 250,
     "metadata": {},
     "output_type": "execute_result"
    }
   ],
   "source": [
    "df[\"SibSp\"]"
   ]
  },
  {
   "cell_type": "code",
   "execution_count": null,
   "id": "281ced53",
   "metadata": {},
   "outputs": [],
   "source": []
  },
  {
   "cell_type": "code",
   "execution_count": null,
   "id": "3ff2def2",
   "metadata": {},
   "outputs": [],
   "source": []
  },
  {
   "cell_type": "markdown",
   "id": "004f9ac4",
   "metadata": {},
   "source": [
    "# 문제 19: test.csv 파일에서 숫자 데이터로 이루어진 column과 문자 데이터로 이루어진 column을 서로 분리하는 함수를 작성하라"
   ]
  },
  {
   "cell_type": "markdown",
   "id": "4917bf02",
   "metadata": {},
   "source": [
    "# 문제 20: Age가 짝수인 경우 1, 홀수인 경우 0으로 반환하는 함수를 작성하라"
   ]
  },
  {
   "cell_type": "code",
   "execution_count": 251,
   "id": "1a7c6c2f",
   "metadata": {},
   "outputs": [
    {
     "data": {
      "text/plain": [
       "0      34.5\n",
       "1      47.0\n",
       "2      62.0\n",
       "3      27.0\n",
       "4      22.0\n",
       "       ... \n",
       "413     NaN\n",
       "414    39.0\n",
       "415    38.5\n",
       "416     NaN\n",
       "417     NaN\n",
       "Name: Age, Length: 418, dtype: float64"
      ]
     },
     "execution_count": 251,
     "metadata": {},
     "output_type": "execute_result"
    }
   ],
   "source": [
    "df[\"Age\"]"
   ]
  },
  {
   "cell_type": "code",
   "execution_count": 221,
   "id": "5a49078f",
   "metadata": {},
   "outputs": [],
   "source": [
    "def age_chk(x):\n",
    "    if x % 2 ==1:\n",
    "        return '0'\n",
    "    elif x % 2 == 0:\n",
    "        return '1'\n",
    "    else : \n",
    "        return float('nan')"
   ]
  },
  {
   "cell_type": "code",
   "execution_count": 222,
   "id": "06f123bc",
   "metadata": {},
   "outputs": [
    {
     "name": "stdout",
     "output_type": "stream",
     "text": [
      "<function age1 at 0x000002C51B85F880>\n"
     ]
    }
   ],
   "source": []
  },
  {
   "cell_type": "code",
   "execution_count": null,
   "id": "b96ecdd7",
   "metadata": {},
   "outputs": [],
   "source": []
  }
 ],
 "metadata": {
  "kernelspec": {
   "display_name": "Python 3 (ipykernel)",
   "language": "python",
   "name": "python3"
  },
  "language_info": {
   "codemirror_mode": {
    "name": "ipython",
    "version": 3
   },
   "file_extension": ".py",
   "mimetype": "text/x-python",
   "name": "python",
   "nbconvert_exporter": "python",
   "pygments_lexer": "ipython3",
   "version": "3.10.9"
  }
 },
 "nbformat": 4,
 "nbformat_minor": 5
}
